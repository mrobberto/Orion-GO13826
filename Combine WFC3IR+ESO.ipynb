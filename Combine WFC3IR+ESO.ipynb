{
 "cells": [
  {
   "cell_type": "code",
   "execution_count": 115,
   "metadata": {
    "collapsed": true
   },
   "outputs": [],
   "source": [
    "%matplotlib inline"
   ]
  },
  {
   "cell_type": "code",
   "execution_count": 87,
   "metadata": {
    "collapsed": true
   },
   "outputs": [],
   "source": [
    "import numpy as np\n",
    "import matplotlib.pyplot as plt"
   ]
  },
  {
   "cell_type": "code",
   "execution_count": 2,
   "metadata": {
    "collapsed": true
   },
   "outputs": [],
   "source": [
    "# from astropy.io import votable as vot\n",
    "from astroquery.vizier import Vizier\n",
    "#catalog_list = Vizier.find_catalogs('Kang W51')\n",
    "\n",
    "#we must set\n",
    "Vizier.ROW_LIMIT = -1  #needed to bypass the 50 rows limit\n",
    "\n",
    "#and if we read again...\n",
    "DaRio2009_table2 = Vizier.get_catalogs('J/ApJS/183/261/table2')\n",
    "\n"
   ]
  },
  {
   "cell_type": "code",
   "execution_count": 3,
   "metadata": {
    "collapsed": true
   },
   "outputs": [],
   "source": [
    "operator = \"robberto\""
   ]
  },
  {
   "cell_type": "markdown",
   "metadata": {},
   "source": [
    "## Define function to calculate angular separation"
   ]
  },
  {
   "cell_type": "code",
   "execution_count": 27,
   "metadata": {
    "collapsed": true
   },
   "outputs": [],
   "source": [
    "def angsep(ra1deg,dec1deg,ra2deg,dec2deg):\n",
    "    \"\"\" Determine separation in degrees between two celestial objects \n",
    "        arguments are RA and Dec in decimal degrees. \n",
    "        Returns the separation in decimal degrees.\n",
    "    \"\"\"\n",
    "    ra1rad=ra1deg*np.pi/180.      #from decimal degrees to radiants...\n",
    "    dec1rad=dec1deg*np.pi/180.\n",
    "    ra2rad=ra2deg*np.pi/180.\n",
    "    dec2rad=dec2deg*np.pi/180.\n",
    "    \n",
    "    # calculate scalar product for determination\n",
    "    # of angular separation, all in radiants\n",
    "    \n",
    "    x=np.cos(ra1rad)*np.cos(dec1rad)*np.cos(ra2rad)*np.cos(dec2rad)\n",
    "    y=np.sin(ra1rad)*np.cos(dec1rad)*np.sin(ra2rad)*np.cos(dec2rad)\n",
    "    z=np.sin(dec1rad)*np.sin(dec2rad)\n",
    "    \n",
    "    rad=np.arccos(x+y+z) # Sometimes gives warnings when coords match\n",
    "    \n",
    "    # use Pythargoras approximation if rad < 1 arcsec = 1/206265. radiants = 4.848E-6 radiants\n",
    "    sep = np.choose( rad<0.000004848 , (np.sqrt((np.cos(dec1rad)*(ra1rad-ra2rad))**2+(dec1rad-dec2rad)**2),rad))\n",
    "        \n",
    "    # Angular separation\n",
    "    sep=sep*180./np.pi   #convert from radiants back to decimal degrees\n",
    "\n",
    "    return sep\n",
    "\n"
   ]
  },
  {
   "cell_type": "markdown",
   "metadata": {},
   "source": [
    "## Read the WFC3 data"
   ]
  },
  {
   "cell_type": "code",
   "execution_count": 79,
   "metadata": {
    "collapsed": false
   },
   "outputs": [
    {
     "name": "stdout",
     "output_type": "stream",
     "text": [
      "5299\n"
     ]
    },
    {
     "data": {
      "text/plain": [
       "numpy.ndarray"
      ]
     },
     "execution_count": 79,
     "metadata": {},
     "output_type": "execute_result"
    }
   ],
   "source": [
    "#read the WFC3 slim catalog\n",
    "rawpath_ir = \"/Users/\"+operator+\"/Box Sync/Orion/photometry/Final_catalogue\"\n",
    "fileWFC3 = rawpath_ir + '/slim_table.csv'\n",
    "data_ir = np.genfromtxt(fileWFC3,names=True,delimiter=',')\n",
    "print len(data_ir)\n",
    "type(data_ir)"
   ]
  },
  {
   "cell_type": "code",
   "execution_count": 67,
   "metadata": {
    "collapsed": false
   },
   "outputs": [
    {
     "name": "stdout",
     "output_type": "stream",
     "text": [
      "(100.0, 83.65692266, -5.439306621, 9260.612146, 8467.958019, 13.8675, 0.002, 0.737, 0.0, 2.0, 13.5655, 0.001, 0.295, 0.0, 2.0, 127.0, 2.0)\n"
     ]
    }
   ],
   "source": [
    "print(data_ir[100])"
   ]
  },
  {
   "cell_type": "code",
   "execution_count": 46,
   "metadata": {
    "collapsed": false
   },
   "outputs": [
    {
     "data": {
      "text/plain": [
       "('ind',\n",
       " 'ra',\n",
       " 'dec',\n",
       " 'X_mos',\n",
       " 'Y_mos',\n",
       " 'mag130',\n",
       " 'err_mag130',\n",
       " 'delta130',\n",
       " 'Flag_130',\n",
       " 'N_130',\n",
       " 'mag139',\n",
       " 'err_mag139',\n",
       " 'delta139',\n",
       " 'Flag_139',\n",
       " 'N_139',\n",
       " 'FirstID',\n",
       " 'N')"
      ]
     },
     "execution_count": 46,
     "metadata": {},
     "output_type": "execute_result"
    }
   ],
   "source": [
    "#check to make sure we got the columns right\n",
    "data_ir.dtype.names"
   ]
  },
  {
   "cell_type": "markdown",
   "metadata": {},
   "source": [
    "## Read the Hawk data\n"
   ]
  },
  {
   "cell_type": "code",
   "execution_count": 80,
   "metadata": {
    "collapsed": false
   },
   "outputs": [
    {
     "name": "stdout",
     "output_type": "stream",
     "text": [
      "4340\n"
     ]
    },
    {
     "data": {
      "text/plain": [
       "numpy.ndarray"
      ]
     },
     "execution_count": 80,
     "metadata": {},
     "output_type": "execute_result"
    }
   ],
   "source": [
    "#read the WFC3 slim catalog\n",
    "rawpath_catalogs = \"/Users/\"+operator+\"/Box Sync/Orion/catalogs\"\n",
    "fileHawk = rawpath_catalogs + '/Orion_HAWK-I_catalog_to_publish.dat'\n",
    "data_Hawk = np.genfromtxt(fileHawk, names=True)\n",
    "print len(data_Hawk)\n",
    "type(data_Hawk)"
   ]
  },
  {
   "cell_type": "code",
   "execution_count": 48,
   "metadata": {
    "collapsed": false
   },
   "outputs": [
    {
     "data": {
      "text/plain": [
       "('RA2000', 'Dec2000', 'J_', 'Jerr', 'H', 'Herr', 'K', 'Kerr')"
      ]
     },
     "execution_count": 48,
     "metadata": {},
     "output_type": "execute_result"
    }
   ],
   "source": [
    "#check to make sure we got the columns right\n",
    "data_Hawk.dtype.names"
   ]
  },
  {
   "cell_type": "markdown",
   "metadata": {},
   "source": [
    "## Source Matching"
   ]
  },
  {
   "cell_type": "markdown",
   "metadata": {},
   "source": [
    "### We look fo the conterparts of the WFC3IR sources"
   ]
  },
  {
   "cell_type": "code",
   "execution_count": 84,
   "metadata": {
    "collapsed": false
   },
   "outputs": [
    {
     "name": "stdout",
     "output_type": "stream",
     "text": [
      "4340\n"
     ]
    }
   ],
   "source": [
    "rair = data_ir['ra']\n",
    "decir = data_ir['dec']\n",
    "nir = len(decir) #number of individual stars in the WFC3 catalog: nir=5299\n",
    "raHawk =data_Hawk['RA2000']\n",
    "decHawk =data_Hawk['Dec2000']\n",
    "nHawk = len(decHawk) #number of individual stars in the Hawk catalog: nHawk=4340\n",
    "print(nHawk)\n",
    "\n",
    "\n",
    "#array_final and index_nul are filled with -99.999 \n",
    "array_final = np.ones((nHawk,13), dtype=np.float)*(-99.999)\n",
    "index_null = np.ones((nHawk,8), dtype=np.float)*(-99.999)\n",
    "#print array_final[:20]"
   ]
  },
  {
   "cell_type": "code",
   "execution_count": 58,
   "metadata": {
    "collapsed": false
   },
   "outputs": [
    {
     "name": "stdout",
     "output_type": "stream",
     "text": [
      "5299\n",
      "3.27119002276e-05\n"
     ]
    }
   ],
   "source": [
    "# test case\n",
    "k=3500\n",
    "dist = angsep(raHawk[k],decHawk[k],rair,decir)  #\n",
    "print(len(dist))\n",
    "min_dist = np.min(dist)  \n",
    "print(min_dist)\n"
   ]
  },
  {
   "cell_type": "code",
   "execution_count": 136,
   "metadata": {
    "collapsed": false
   },
   "outputs": [
    {
     "name": "stdout",
     "output_type": "stream",
     "text": [
      "zero match, one match, two match:  2421 1648 271\n",
      "more than 0 matches:  (array([], dtype=int64),)  0 matches:  2421\n",
      "2618 5299\n"
     ]
    },
    {
     "data": {
      "image/png": "[encoded data removed]",
      "text/plain": [
       "<matplotlib.figure.Figure at 0x1188b7250>"
      ]
     },
     "metadata": {},
     "output_type": "display_data"
    }
   ],
   "source": [
    "ii=0\n",
    "j=0\n",
    "num0=0\n",
    "num1=0\n",
    "num2=0\n",
    "min_dist = np.ones(nHawk)   #3390 ACS stars\n",
    "\n",
    "for k in range(nHawk):\n",
    "    #calculate for each Hawk source the distance to all WFC3-IR sources\n",
    "    dist = angsep(raHawk[k],decHawk[k],rair,decir)  #5299 distances, one for each WFC3-IR star\n",
    "    min_dist[k] = np.min(dist)  \n",
    "    #estimate minimum\n",
    "    #CRITERION: coordinates can be off by 0.5\"\n",
    "    #0.5 ARCSEC = 0.5*1/3600. degrees\n",
    "    criterion = 0.5/3600.\n",
    "    i = np.where(dist < criterion)  #k is the Hawk index, i is the ir inder\n",
    "    count = len(i[0])\n",
    "    #print(count)\n",
    "    if (count == 1): #found one and only one good match in the WFC3-IR list \n",
    "        num1=num1 + 1\n",
    "        array_final[k,:] = [k, data_Hawk[k]['J_'],data_Hawk[k]['Jerr'], data_Hawk[k]['H'],data_Hawk[k]['Herr'], data_Hawk[k]['K'],data_Hawk[k]['Kerr'],\n",
    "                            data_ir[i]['ra'],data_ir[i]['dec'],data_ir[i]['mag130'],data_ir[i]['err_mag130'],data_ir[i]['mag139'],data_ir[i]['err_mag139']]\n",
    "#        array_final[k,:] = np.concatenate(data_ir[i],data_Hawk[k])\n",
    "        ii=ii+1 \n",
    "    if (count == 0):  # no good match found\n",
    "        num0=num0+ 1\n",
    "        #index_null[j,:] = [data_850[k]['IND'],data_850[k]['RA'],data_850[k]['DEC'],data_850[k]['X_MOS'],data_850[k]['Y_MOS'],data_850[k]['F775W'],data_850[k]['err_F775W'],data_850[k]['d_F775W'],data_850[k]['F850LP'],data_850[k]['err_F850LP'],data_850[k]['d_F850LP'],data_850[k]['ONCacs']]\n",
    "        index_null[j,:] = data_Hawk[k]\n",
    "        j=j+1\n",
    "    if (count > 1):  # found more than one match\n",
    "        num2=num2+ 1\n",
    "        best1= np.where(dist[i] == min(dist[i]))\n",
    "        #print(best1[0])\n",
    "        if (len(best1[0]) > 1):\n",
    "            best = best1[0][0]\n",
    "        if (len(best1[0]) == 1):\n",
    "            best =best1[0][0]\n",
    "        #    print i[0][best]\n",
    "        #array_final[i,:] = [data_850[k]['X_MOS'],data_850[k]['Y_MOS'],data_ir[b[0][best]]['ra'],data_ir[b[0][best]]['dec'],data_850[k]['F775W'],data_850[k]['err_F775W'],data_850[k]['F850LP'],data_850[k]['err_F850LP'],data_ir[b[0][best]]['mag139'],data_ir[b[0][best]]['err_mag139'],data_ir[b[0][best]]['mag130'],data_ir[b[0][best]]['err_mag130']] \n",
    "        #array_final[i,:] = [data_ir[i[0][best],data_Hawk[k]]]\n",
    "        ii=ii+1\n",
    "\n",
    "print 'zero match, one match, two match: ',num0, num1, num2\n",
    "#print 'total = ',num0+num1+num2+len(np.where(visible == 0)[0])\n",
    "print 'more than 0 matches: ', i,' 0 matches: ', j\n",
    "plt.hist(min_dist[min_dist<2.77778E-4])   #max reange 1/3600. = 1 arcsec.\n",
    "print len(min_dist[min_dist<2.77778E-4]), len(data_ir['ra'])  "
   ]
  },
  {
   "cell_type": "code",
   "execution_count": 137,
   "metadata": {
    "collapsed": false
   },
   "outputs": [
    {
     "data": {
      "text/plain": [
       "250.0"
      ]
     },
     "execution_count": 137,
     "metadata": {},
     "output_type": "execute_result"
    }
   ],
   "source": [
    "array_final[250,0]"
   ]
  },
  {
   "cell_type": "code",
   "execution_count": 138,
   "metadata": {
    "collapsed": false
   },
   "outputs": [
    {
     "data": {
      "image/png": "[encoded data removed]",
      "text/plain": [
       "<matplotlib.figure.Figure at 0x118548950>"
      ]
     },
     "metadata": {},
     "output_type": "display_data"
    }
   ],
   "source": [
    "import matplotlib.pyplot as plt\n",
    "plt.plot(array_final[:,9]-array_final[:,11] ,array_final[:,11] , 'ro')\n",
    "plt.axis([-1, 2,25, 5])\n",
    "plt.show()"
   ]
  },
  {
   "cell_type": "code",
   "execution_count": 139,
   "metadata": {
    "collapsed": false
   },
   "outputs": [
    {
     "data": {
      "image/png": "[encoded data removed]",
      "text/plain": [
       "<matplotlib.figure.Figure at 0x11884a390>"
      ]
     },
     "metadata": {},
     "output_type": "display_data"
    }
   ],
   "source": [
    "H2Oindex = array_final[:,9]-array_final[:,11]\n",
    "iH2O = (H2Oindex<0).nonzero()\n",
    "DM=8.15\n",
    "plt.plot(array_final[:,1]-array_final[:,5] ,array_final[:,1], 'bo')\n",
    "plt.plot(array_final[iH2O,1]-array_final[iH2O,5] ,array_final[iH2O,5], 'ro')\n",
    "plt.axis([-1.2, 2.6,24, 10])\n",
    "plt.show()"
   ]
  },
  {
   "cell_type": "code",
   "execution_count": 140,
   "metadata": {
    "collapsed": false
   },
   "outputs": [
    {
     "data": {
      "image/png": "[encoded data removed]",
      "text/plain": [
       "<matplotlib.figure.Figure at 0x11885e650>"
      ]
     },
     "metadata": {},
     "output_type": "display_data"
    }
   ],
   "source": [
    "H2Oindex = array_final[:,9]-array_final[:,11]\n",
    "iH2O = (H2Oindex<0).nonzero()\n",
    "DM=8.15\n",
    "plt.plot(array_final[:,1],array_final[:,9], 'bo')\n",
    "plt.axis([0, 25,0, 25])\n",
    "plt.show()"
   ]
  },
  {
   "cell_type": "markdown",
   "metadata": {},
   "source": [
    "## Combine the two catalogs"
   ]
  },
  {
   "cell_type": "code",
   "execution_count": 11,
   "metadata": {
    "collapsed": false
   },
   "outputs": [],
   "source": [
    "# For convenience\n",
    "ISPI_RA=ISPI['_RAJ2000']\n",
    "ISPI_DE=ISPI['_DEJ2000']\n",
    "WFI_RA=WFI['_RAJ2000']\n",
    "WFI_DE=WFI['_DEJ2000']"
   ]
  },
  {
   "cell_type": "code",
   "execution_count": 12,
   "metadata": {
    "collapsed": false
   },
   "outputs": [
    {
     "name": "stderr",
     "output_type": "stream",
     "text": [
      "WARNING: AstropyDeprecationWarning: Initializing frame classes like \"ICRS\" using string or other non-Quantity arguments is deprecated, and will be removed in the next version of Astropy.  Instead, you probably want to use the SkyCoord class with the \"frame=icrs\" keyword, or if you really want to use the low-level frame classes, create it with an Angle or Quantity. [astropy.coordinates.baseframe]\n",
      "/Users/robberto/anaconda/envs/astroconda/lib/python2.7/site-packages/astropy/coordinates/angles.py:672: RuntimeWarning: invalid value encountered in less\n",
      "  if np.any(self_angle < wrap_angle_floor) or np.any(self_angle >= wrap_angle):\n",
      "/Users/robberto/anaconda/envs/astroconda/lib/python2.7/site-packages/astropy/coordinates/angles.py:672: RuntimeWarning: invalid value encountered in greater_equal\n",
      "  if np.any(self_angle < wrap_angle_floor) or np.any(self_angle >= wrap_angle):\n",
      "/Users/robberto/anaconda/envs/astroconda/lib/python2.7/site-packages/astropy/coordinates/angles.py:563: RuntimeWarning: invalid value encountered in less\n",
      "  if np.any(angles.value < lower) or np.any(angles.value > upper):\n",
      "/Users/robberto/anaconda/envs/astroconda/lib/python2.7/site-packages/astropy/coordinates/angles.py:563: RuntimeWarning: invalid value encountered in greater\n",
      "  if np.any(angles.value < lower) or np.any(angles.value > upper):\n"
     ]
    }
   ],
   "source": [
    "#From the astropy manual\n",
    "from astropy.coordinates import ICRS\n",
    "from astropy import units as u\n",
    "\n",
    "#assume ra1/dec1 and ra/dec2 are arrays loaded from some file\n",
    "c_ISPI = ICRS(ISPI_RA, ISPI_DE, unit=(u.degree, u.degree))\n",
    "c_WFI = ICRS(WFI_RA, WFI_DE, unit=(u.degree, u.degree))\n",
    "idx, d2d, d3d = c_WFI.match_to_catalog_sky(c_ISPI)"
   ]
  },
  {
   "cell_type": "code",
   "execution_count": 13,
   "metadata": {
    "collapsed": false
   },
   "outputs": [
    {
     "data": {
      "text/plain": [
       "2621"
      ]
     },
     "execution_count": 13,
     "metadata": {},
     "output_type": "execute_result"
    }
   ],
   "source": [
    "#we have 2621 sources detected by WFI.\n",
    "len(c_WFI)"
   ]
  },
  {
   "cell_type": "code",
   "execution_count": 14,
   "metadata": {
    "collapsed": false
   },
   "outputs": [],
   "source": [
    "#the corresponding indices in the ISPI catalog (much larger) are give by the vector idx.\n",
    "#We select the rows/sources corresponding to these indices\n",
    "ISPI_matches = c_ISPI[idx]\n",
    "#dra = (ISPI_matches.ra - c_WFI.ra).arcmin\n",
    "#ddec = (ISPI_matches.dec - c_WFI.dec).arcmin"
   ]
  },
  {
   "cell_type": "code",
   "execution_count": 15,
   "metadata": {
    "collapsed": false
   },
   "outputs": [],
   "source": [
    "#The matching is agnostic about the minimum distance, some are bad. \n",
    "#We need to keep the good ones, selecting a discrepancy in coordinates of <1\"\n",
    "matched = d2d.arcsec < 1  #This is an array of 2621 TRUe/FALSE values\n",
    "#these are the indices of the ISPI sources really matching the WFI catalog\n",
    "m=idx[matched == True]\n",
    "\n",
    "#v=list(range(len(c_WFI)))\n",
    "#v\n",
    "#v=v[matched == True]"
   ]
  },
  {
   "cell_type": "code",
   "execution_count": 16,
   "metadata": {
    "collapsed": false
   },
   "outputs": [
    {
     "name": "stdout",
     "output_type": "stream",
     "text": [
      "2426\n"
     ]
    }
   ],
   "source": [
    "#len(matched)\n",
    "print(len(m))  #we pass from 2621 to 2426 paired sources\n",
    "#print(m)"
   ]
  },
  {
   "cell_type": "code",
   "execution_count": 1,
   "metadata": {
    "collapsed": false
   },
   "outputs": [
    {
     "ename": "NameError",
     "evalue": "name 'ISPI' is not defined",
     "output_type": "error",
     "traceback": [
      "\u001b[0;31m---------------------------------------------------------------------------\u001b[0m",
      "\u001b[0;31mNameError\u001b[0m                                 Traceback (most recent call last)",
      "\u001b[0;32m<ipython-input-1-24fbe623a01d>\u001b[0m in \u001b[0;36m<module>\u001b[0;34m()\u001b[0m\n\u001b[0;32m----> 1\u001b[0;31m \u001b[0mISPI\u001b[0m\u001b[0;34m=\u001b[0m\u001b[0mISPI\u001b[0m\u001b[0;34m[\u001b[0m\u001b[0mm\u001b[0m\u001b[0;34m]\u001b[0m \u001b[0;31m#The new ISPI table is extracted with the indices of the good matches\u001b[0m\u001b[0;34m\u001b[0m\u001b[0m\n\u001b[0m\u001b[1;32m      2\u001b[0m \u001b[0mWFI\u001b[0m\u001b[0;34m=\u001b[0m\u001b[0;34m(\u001b[0m\u001b[0mWFI\u001b[0m\u001b[0;34m[\u001b[0m\u001b[0mm\u001b[0m\u001b[0;34m[\u001b[0m\u001b[0mv\u001b[0m\u001b[0;34m]\u001b[0m\u001b[0;34m]\u001b[0m\u001b[0;34m)\u001b[0m \u001b[0;31m#same for the WFI table\u001b[0m\u001b[0;34m\u001b[0m\u001b[0m\n",
      "\u001b[0;31mNameError\u001b[0m: name 'ISPI' is not defined"
     ]
    }
   ],
   "source": [
    "ISPI=ISPI[m] #The new ISPI table is extracted with the indices of the good matches \n",
    "WFI=(WFI[matched]) #same for the WFI table"
   ]
  },
  {
   "cell_type": "markdown",
   "metadata": {},
   "source": [
    "## Create the table with the combined photometry"
   ]
  },
  {
   "cell_type": "code",
   "execution_count": 18,
   "metadata": {
    "collapsed": false
   },
   "outputs": [
    {
     "name": "stdout",
     "output_type": "stream",
     "text": [
      "<Table masked=True length=2426>\n",
      "    name     dtype    unit  format                                               description                                                n_bad\n",
      "----------- ------- ------- ------ -------------------------------------------------------------------------------------------------------- -----\n",
      "   _RAJ2000 float64     deg  %9.5f               Right ascension (FK5, Equinox=J2000.0) (computed by VizieR, not part of the original data)     0\n",
      "   _DEJ2000 float64     deg  %9.5f                   Declination (FK5, Equinox=J2000.0) (computed by VizieR, not part of the original data)     0\n",
      "n__DRS2009_    str1                                     {\\bf M} indicates M-type stars (table 4) and {\\bf a} H{alpha} measurements (table5)     0\n",
      " __DRS2009_   int16                                                                                                   Identification number     0\n",
      "    RAJ2000   str11 \"h:m:s\"                                                                                 Hour of Right Ascension (J2000)     0\n",
      "    DEJ2000   str11 \"d:m:s\"                                                                                   Degree of Declination (J2000)     0\n",
      "       Umag float32     mag  %6.3f                                                                              ? U band Vega magnitude (1)  2012\n",
      "     e_Umag float32     mag  %6.3f                                                                                          ? Error in Umag  2012\n",
      "       Bmag float32     mag  %6.3f                                                                              ? B band Vega magnitude (1)  1367\n",
      "     e_Bmag float32     mag  %6.3f                                                                                          ? Error in Bmag  1367\n",
      "       Vmag float32     mag  %6.3f                                                                              ? V band Vega magnitude (1)  1048\n",
      "     e_Vmag float32     mag  %6.3f                                                                                          ? Error in Vmag  1048\n",
      "        TiO float32     mag  %6.3f                                                                            ? TiO band Vega magnitude (1)  1384\n",
      "      e_TiO float32     mag  %6.3f                                                                                           ? Error in TiO  1384\n",
      "       Imag float32     mag  %6.3f                                                                                I band Vega magnitude (1)     0\n",
      "     e_Imag float32     mag  %6.3f                                                                                            Error in Imag     0\n",
      "    __H97b_   int16                ? Hillenbrand 1997 (Cat. J/AJ/113/1733) catalog identification [NULL integer written as an empty string]  1157\n",
      "         Ha   int64                                                                                                                             0\n"
     ]
    },
    {
     "name": "stderr",
     "output_type": "stream",
     "text": [
      "/Users/robberto/anaconda/envs/astroconda/lib/python2.7/site-packages/astropy/table/info.py:94: UnicodeWarning: Unicode equal comparison failed to convert both arguments to Unicode - interpreting them as being unequal\n",
      "  if np.all(info[name] == ''):\n"
     ]
    }
   ],
   "source": [
    "#This may be needed to get the right keywords\n",
    "WFI.info()"
   ]
  },
  {
   "cell_type": "code",
   "execution_count": 19,
   "metadata": {
    "collapsed": false
   },
   "outputs": [],
   "source": [
    "photometry=WFI['__DRS2009_','Umag','e_Umag','Bmag','e_Bmag','Vmag','e_Vmag','TiO','e_TiO','Ha','Imag','e_Imag']"
   ]
  },
  {
   "cell_type": "code",
   "execution_count": 20,
   "metadata": {
    "collapsed": true
   },
   "outputs": [],
   "source": [
    "#and to get the info for ISPI\n",
    "#ISPI.info()"
   ]
  },
  {
   "cell_type": "code",
   "execution_count": 21,
   "metadata": {
    "collapsed": false
   },
   "outputs": [
    {
     "data": {
      "text/html": [
       "&lt;Table masked=True length=2426&gt;\n",
       "<table id=\"table4608088976\">\n",
       "<thead><tr><th>__DRS2009_</th><th>Umag</th><th>e_Umag</th><th>Bmag</th><th>e_Bmag</th><th>Vmag</th><th>e_Vmag</th><th>TiO</th><th>e_TiO</th><th>Ha</th><th>Imag</th><th>e_Imag</th><th>Jmag</th><th>Hmag</th><th>Kmag</th><th>e_Jmag</th><th>e_Hmag</th><th>e_Kmag</th></tr></thead>\n",
       "<thead><tr><th></th><th>mag</th><th>mag</th><th>mag</th><th>mag</th><th>mag</th><th>mag</th><th>mag</th><th>mag</th><th></th><th>mag</th><th>mag</th><th>mag</th><th>mag</th><th>mag</th><th>mag</th><th>mag</th><th>mag</th></tr></thead>\n",
       "<thead><tr><th>int16</th><th>float32</th><th>float32</th><th>float32</th><th>float32</th><th>float32</th><th>float32</th><th>float32</th><th>float32</th><th>int64</th><th>float32</th><th>float32</th><th>float32</th><th>float32</th><th>float32</th><th>float32</th><th>float32</th><th>float32</th></tr></thead>\n",
       "<tr><td>1</td><td>--</td><td>--</td><td>16.093</td><td>0.004</td><td>13.728</td><td>0.004</td><td>12.097</td><td>0.003</td><td>0</td><td>8.626</td><td>0.027</td><td>6.143</td><td>4.778</td><td>4.493</td><td>0.020</td><td>0.020</td><td>0.270</td></tr>\n",
       "<tr><td>2</td><td>9.886</td><td>0.008</td><td>10.041</td><td>0.009</td><td>9.736</td><td>0.008</td><td>9.540</td><td>0.004</td><td>5</td><td>8.822</td><td>0.021</td><td>8.067</td><td>7.604</td><td>7.380</td><td>0.026</td><td>0.034</td><td>0.023</td></tr>\n",
       "<tr><td>3</td><td>13.260</td><td>0.007</td><td>12.141</td><td>0.011</td><td>11.246</td><td>0.017</td><td>10.535</td><td>0.003</td><td>24</td><td>9.280</td><td>0.036</td><td>8.166</td><td>7.539</td><td>7.190</td><td>0.029</td><td>0.044</td><td>0.021</td></tr>\n",
       "<tr><td>4</td><td>11.081</td><td>0.005</td><td>10.697</td><td>0.009</td><td>10.219</td><td>0.010</td><td>9.929</td><td>0.004</td><td>-2</td><td>9.425</td><td>0.016</td><td>8.993</td><td>8.628</td><td>8.279</td><td>0.026</td><td>0.071</td><td>0.027</td></tr>\n",
       "<tr><td>5</td><td>13.057</td><td>0.004</td><td>12.043</td><td>0.052</td><td>11.225</td><td>0.015</td><td>10.646</td><td>0.003</td><td>7</td><td>9.538</td><td>0.018</td><td>8.645</td><td>8.064</td><td>7.879</td><td>0.026</td><td>0.053</td><td>0.031</td></tr>\n",
       "<tr><td>6</td><td>--</td><td>--</td><td>--</td><td>--</td><td>--</td><td>--</td><td>9.601</td><td>0.004</td><td>2</td><td>9.552</td><td>0.016</td><td>9.386</td><td>9.323</td><td>9.315</td><td>0.023</td><td>0.032</td><td>0.019</td></tr>\n",
       "<tr><td>7</td><td>11.199</td><td>0.014</td><td>10.900</td><td>0.008</td><td>10.388</td><td>0.010</td><td>10.130</td><td>0.004</td><td>0</td><td>9.596</td><td>0.018</td><td>9.117</td><td>8.905</td><td>8.792</td><td>0.026</td><td>0.032</td><td>0.019</td></tr>\n",
       "<tr><td>8</td><td>12.583</td><td>0.004</td><td>11.496</td><td>0.010</td><td>10.928</td><td>0.010</td><td>10.474</td><td>0.004</td><td>11</td><td>9.616</td><td>0.023</td><td>8.776</td><td>7.997</td><td>7.303</td><td>0.023</td><td>0.038</td><td>0.021</td></tr>\n",
       "<tr><td>9</td><td>9.928</td><td>0.021</td><td>10.075</td><td>0.026</td><td>10.122</td><td>0.012</td><td>9.908</td><td>0.006</td><td>18</td><td>9.652</td><td>0.019</td><td>8.680</td><td>8.500</td><td>8.380</td><td>0.110</td><td>0.010</td><td>0.110</td></tr>\n",
       "<tr><td>...</td><td>...</td><td>...</td><td>...</td><td>...</td><td>...</td><td>...</td><td>...</td><td>...</td><td>...</td><td>...</td><td>...</td><td>...</td><td>...</td><td>...</td><td>...</td><td>...</td><td>...</td></tr>\n",
       "<tr><td>2610</td><td>--</td><td>--</td><td>--</td><td>--</td><td>--</td><td>--</td><td>--</td><td>--</td><td>0</td><td>20.825</td><td>0.056</td><td>18.870</td><td>17.863</td><td>17.369</td><td>0.279</td><td>0.131</td><td>0.204</td></tr>\n",
       "<tr><td>2611</td><td>--</td><td>--</td><td>--</td><td>--</td><td>--</td><td>--</td><td>--</td><td>--</td><td>0</td><td>20.830</td><td>0.074</td><td>--</td><td>15.850</td><td>15.132</td><td>--</td><td>0.042</td><td>0.047</td></tr>\n",
       "<tr><td>2612</td><td>--</td><td>--</td><td>--</td><td>--</td><td>--</td><td>--</td><td>--</td><td>--</td><td>0</td><td>20.832</td><td>0.077</td><td>17.876</td><td>17.065</td><td>16.230</td><td>0.132</td><td>0.075</td><td>0.120</td></tr>\n",
       "<tr><td>2613</td><td>--</td><td>--</td><td>--</td><td>--</td><td>--</td><td>--</td><td>--</td><td>--</td><td>0</td><td>20.854</td><td>0.038</td><td>18.039</td><td>16.461</td><td>15.834</td><td>0.141</td><td>0.066</td><td>0.102</td></tr>\n",
       "<tr><td>2614</td><td>--</td><td>--</td><td>--</td><td>--</td><td>--</td><td>--</td><td>--</td><td>--</td><td>0</td><td>20.877</td><td>0.050</td><td>18.095</td><td>17.083</td><td>16.500</td><td>0.213</td><td>0.127</td><td>0.193</td></tr>\n",
       "<tr><td>2615</td><td>--</td><td>--</td><td>--</td><td>--</td><td>--</td><td>--</td><td>--</td><td>--</td><td>0</td><td>20.900</td><td>0.042</td><td>--</td><td>--</td><td>16.012</td><td>--</td><td>--</td><td>0.056</td></tr>\n",
       "<tr><td>2617</td><td>--</td><td>--</td><td>--</td><td>--</td><td>--</td><td>--</td><td>--</td><td>--</td><td>0</td><td>20.938</td><td>0.035</td><td>18.322</td><td>16.910</td><td>16.227</td><td>0.169</td><td>0.064</td><td>0.109</td></tr>\n",
       "<tr><td>2618</td><td>--</td><td>--</td><td>--</td><td>--</td><td>--</td><td>--</td><td>--</td><td>--</td><td>0</td><td>21.026</td><td>0.068</td><td>--</td><td>--</td><td>--</td><td>--</td><td>--</td><td>--</td></tr>\n",
       "<tr><td>2620</td><td>--</td><td>--</td><td>--</td><td>--</td><td>--</td><td>--</td><td>--</td><td>--</td><td>0</td><td>21.082</td><td>0.087</td><td>--</td><td>16.985</td><td>16.263</td><td>--</td><td>0.063</td><td>0.078</td></tr>\n",
       "<tr><td>2621</td><td>--</td><td>--</td><td>--</td><td>--</td><td>--</td><td>--</td><td>--</td><td>--</td><td>0</td><td>21.198</td><td>0.068</td><td>18.279</td><td>16.673</td><td>15.886</td><td>0.199</td><td>0.084</td><td>0.107</td></tr>\n",
       "</table>"
      ],
      "text/plain": [
       "<Table masked=True length=2426>\n",
       "__DRS2009_   Umag   e_Umag   Bmag   e_Bmag ...   Kmag   e_Jmag  e_Hmag  e_Kmag\n",
       "             mag     mag     mag     mag   ...   mag     mag     mag     mag  \n",
       "  int16    float32 float32 float32 float32 ... float32 float32 float32 float32\n",
       "---------- ------- ------- ------- ------- ... ------- ------- ------- -------\n",
       "         1      --      --  16.093   0.004 ...   4.493   0.020   0.020   0.270\n",
       "         2   9.886   0.008  10.041   0.009 ...   7.380   0.026   0.034   0.023\n",
       "         3  13.260   0.007  12.141   0.011 ...   7.190   0.029   0.044   0.021\n",
       "         4  11.081   0.005  10.697   0.009 ...   8.279   0.026   0.071   0.027\n",
       "         5  13.057   0.004  12.043   0.052 ...   7.879   0.026   0.053   0.031\n",
       "         6      --      --      --      -- ...   9.315   0.023   0.032   0.019\n",
       "         7  11.199   0.014  10.900   0.008 ...   8.792   0.026   0.032   0.019\n",
       "         8  12.583   0.004  11.496   0.010 ...   7.303   0.023   0.038   0.021\n",
       "         9   9.928   0.021  10.075   0.026 ...   8.380   0.110   0.010   0.110\n",
       "       ...     ...     ...     ...     ... ...     ...     ...     ...     ...\n",
       "      2610      --      --      --      -- ...  17.369   0.279   0.131   0.204\n",
       "      2611      --      --      --      -- ...  15.132      --   0.042   0.047\n",
       "      2612      --      --      --      -- ...  16.230   0.132   0.075   0.120\n",
       "      2613      --      --      --      -- ...  15.834   0.141   0.066   0.102\n",
       "      2614      --      --      --      -- ...  16.500   0.213   0.127   0.193\n",
       "      2615      --      --      --      -- ...  16.012      --      --   0.056\n",
       "      2617      --      --      --      -- ...  16.227   0.169   0.064   0.109\n",
       "      2618      --      --      --      -- ...      --      --      --      --\n",
       "      2620      --      --      --      -- ...  16.263      --   0.063   0.078\n",
       "      2621      --      --      --      -- ...  15.886   0.199   0.084   0.107"
      ]
     },
     "execution_count": 21,
     "metadata": {},
     "output_type": "execute_result"
    }
   ],
   "source": [
    "#add the ISPI measures to the final photometry table\n",
    "photometry['Jmag']=ISPI['Jmag']\n",
    "photometry['Hmag']=ISPI['Hmag']\n",
    "photometry['Kmag']=ISPI['Kmag']\n",
    "photometry['e_Jmag']=ISPI['e_Jmag']\n",
    "photometry['e_Hmag']=ISPI['e_Hmag']\n",
    "photometry['e_Kmag']=ISPI['e_Kmag']\n",
    "\n",
    "#check\n",
    "photometry\n",
    "\n"
   ]
  },
  {
   "cell_type": "markdown",
   "metadata": {},
   "source": [
    "### Write the table"
   ]
  },
  {
   "cell_type": "code",
   "execution_count": 22,
   "metadata": {
    "collapsed": false
   },
   "outputs": [],
   "source": [
    "photometry.write('/Users/robberto/Box Sync/Orion/catalogs/Table WFI+ISPI.txt',format='ascii')"
   ]
  },
  {
   "cell_type": "code",
   "execution_count": 23,
   "metadata": {
    "collapsed": false
   },
   "outputs": [
    {
     "data": {
      "text/html": [
       "&lt;Table length=2426&gt;\n",
       "<table id=\"table4608214032\">\n",
       "<thead><tr><th>__DRS2009_</th><th>Umag</th><th>e_Umag</th><th>Bmag</th><th>e_Bmag</th><th>Vmag</th><th>e_Vmag</th><th>TiO</th><th>e_TiO</th><th>Ha</th><th>Imag</th><th>e_Imag</th><th>Jmag</th><th>Hmag</th><th>Kmag</th><th>e_Jmag</th><th>e_Hmag</th><th>e_Kmag</th></tr></thead>\n",
       "<thead><tr><th>int64</th><th>str6</th><th>str5</th><th>str6</th><th>str5</th><th>str6</th><th>str5</th><th>str6</th><th>str5</th><th>int64</th><th>float64</th><th>float64</th><th>str7</th><th>str6</th><th>str6</th><th>str6</th><th>str5</th><th>str5</th></tr></thead>\n",
       "<tr><td>1</td><td>--</td><td>--</td><td>16.093</td><td>0.004</td><td>13.728</td><td>0.004</td><td>12.097</td><td>0.003</td><td>0</td><td>8.626</td><td>0.027</td><td>6.143</td><td>4.778</td><td>4.493</td><td>0.020</td><td>0.020</td><td>0.270</td></tr>\n",
       "<tr><td>2</td><td>9.886</td><td>0.008</td><td>10.041</td><td>0.009</td><td>9.736</td><td>0.008</td><td>9.540</td><td>0.004</td><td>5</td><td>8.822</td><td>0.021</td><td>8.067</td><td>7.604</td><td>7.380</td><td>0.026</td><td>0.034</td><td>0.023</td></tr>\n",
       "<tr><td>3</td><td>13.260</td><td>0.007</td><td>12.141</td><td>0.011</td><td>11.246</td><td>0.017</td><td>10.535</td><td>0.003</td><td>24</td><td>9.28</td><td>0.036</td><td>8.166</td><td>7.539</td><td>7.190</td><td>0.029</td><td>0.044</td><td>0.021</td></tr>\n",
       "<tr><td>4</td><td>11.081</td><td>0.005</td><td>10.697</td><td>0.009</td><td>10.219</td><td>0.010</td><td>9.929</td><td>0.004</td><td>-2</td><td>9.425</td><td>0.016</td><td>8.993</td><td>8.628</td><td>8.279</td><td>0.026</td><td>0.071</td><td>0.027</td></tr>\n",
       "<tr><td>5</td><td>13.057</td><td>0.004</td><td>12.043</td><td>0.052</td><td>11.225</td><td>0.015</td><td>10.646</td><td>0.003</td><td>7</td><td>9.538</td><td>0.018</td><td>8.645</td><td>8.064</td><td>7.879</td><td>0.026</td><td>0.053</td><td>0.031</td></tr>\n",
       "<tr><td>6</td><td>--</td><td>--</td><td>--</td><td>--</td><td>--</td><td>--</td><td>9.601</td><td>0.004</td><td>2</td><td>9.552</td><td>0.016</td><td>9.386</td><td>9.323</td><td>9.315</td><td>0.023</td><td>0.032</td><td>0.019</td></tr>\n",
       "<tr><td>7</td><td>11.199</td><td>0.014</td><td>10.900</td><td>0.008</td><td>10.388</td><td>0.010</td><td>10.130</td><td>0.004</td><td>0</td><td>9.596</td><td>0.018</td><td>9.117</td><td>8.905</td><td>8.792</td><td>0.026</td><td>0.032</td><td>0.019</td></tr>\n",
       "<tr><td>8</td><td>12.583</td><td>0.004</td><td>11.496</td><td>0.010</td><td>10.928</td><td>0.010</td><td>10.474</td><td>0.004</td><td>11</td><td>9.616</td><td>0.023</td><td>8.776</td><td>7.997</td><td>7.303</td><td>0.023</td><td>0.038</td><td>0.021</td></tr>\n",
       "<tr><td>9</td><td>9.928</td><td>0.021</td><td>10.075</td><td>0.026</td><td>10.122</td><td>0.012</td><td>9.908</td><td>0.006</td><td>18</td><td>9.652</td><td>0.019</td><td>8.680</td><td>8.500</td><td>8.380</td><td>0.110</td><td>0.010</td><td>0.110</td></tr>\n",
       "<tr><td>10</td><td>14.065</td><td>0.004</td><td>12.535</td><td>0.010</td><td>11.606</td><td>0.008</td><td>10.906</td><td>0.003</td><td>18</td><td>9.794</td><td>0.021</td><td>8.848</td><td>8.100</td><td>7.947</td><td>0.052</td><td>0.033</td><td>0.024</td></tr>\n",
       "<tr><td>...</td><td>...</td><td>...</td><td>...</td><td>...</td><td>...</td><td>...</td><td>...</td><td>...</td><td>...</td><td>...</td><td>...</td><td>...</td><td>...</td><td>...</td><td>...</td><td>...</td><td>...</td></tr>\n",
       "<tr><td>2610</td><td>--</td><td>--</td><td>--</td><td>--</td><td>--</td><td>--</td><td>--</td><td>--</td><td>0</td><td>20.825</td><td>0.056</td><td>18.870</td><td>17.863</td><td>17.369</td><td>0.279</td><td>0.131</td><td>0.204</td></tr>\n",
       "<tr><td>2611</td><td>--</td><td>--</td><td>--</td><td>--</td><td>--</td><td>--</td><td>--</td><td>--</td><td>0</td><td>20.83</td><td>0.074</td><td>--</td><td>15.850</td><td>15.132</td><td>--</td><td>0.042</td><td>0.047</td></tr>\n",
       "<tr><td>2612</td><td>--</td><td>--</td><td>--</td><td>--</td><td>--</td><td>--</td><td>--</td><td>--</td><td>0</td><td>20.832</td><td>0.077</td><td>17.876</td><td>17.065</td><td>16.230</td><td>0.132</td><td>0.075</td><td>0.120</td></tr>\n",
       "<tr><td>2613</td><td>--</td><td>--</td><td>--</td><td>--</td><td>--</td><td>--</td><td>--</td><td>--</td><td>0</td><td>20.854</td><td>0.038</td><td>18.039</td><td>16.461</td><td>15.834</td><td>0.141</td><td>0.066</td><td>0.102</td></tr>\n",
       "<tr><td>2614</td><td>--</td><td>--</td><td>--</td><td>--</td><td>--</td><td>--</td><td>--</td><td>--</td><td>0</td><td>20.877</td><td>0.05</td><td>18.095</td><td>17.083</td><td>16.500</td><td>0.213</td><td>0.127</td><td>0.193</td></tr>\n",
       "<tr><td>2615</td><td>--</td><td>--</td><td>--</td><td>--</td><td>--</td><td>--</td><td>--</td><td>--</td><td>0</td><td>20.9</td><td>0.042</td><td>--</td><td>--</td><td>16.012</td><td>--</td><td>--</td><td>0.056</td></tr>\n",
       "<tr><td>2617</td><td>--</td><td>--</td><td>--</td><td>--</td><td>--</td><td>--</td><td>--</td><td>--</td><td>0</td><td>20.938</td><td>0.035</td><td>18.322</td><td>16.910</td><td>16.227</td><td>0.169</td><td>0.064</td><td>0.109</td></tr>\n",
       "<tr><td>2618</td><td>--</td><td>--</td><td>--</td><td>--</td><td>--</td><td>--</td><td>--</td><td>--</td><td>0</td><td>21.026</td><td>0.068</td><td>--</td><td>--</td><td>--</td><td>--</td><td>--</td><td>--</td></tr>\n",
       "<tr><td>2620</td><td>--</td><td>--</td><td>--</td><td>--</td><td>--</td><td>--</td><td>--</td><td>--</td><td>0</td><td>21.082</td><td>0.087</td><td>--</td><td>16.985</td><td>16.263</td><td>--</td><td>0.063</td><td>0.078</td></tr>\n",
       "<tr><td>2621</td><td>--</td><td>--</td><td>--</td><td>--</td><td>--</td><td>--</td><td>--</td><td>--</td><td>0</td><td>21.198</td><td>0.068</td><td>18.279</td><td>16.673</td><td>15.886</td><td>0.199</td><td>0.084</td><td>0.107</td></tr>\n",
       "</table>"
      ],
      "text/plain": [
       "<Table length=2426>\n",
       "__DRS2009_  Umag  e_Umag  Bmag  e_Bmag ...  Hmag   Kmag  e_Jmag e_Hmag e_Kmag\n",
       "  int64     str6   str5   str6   str5  ...  str6   str6   str6   str5   str5 \n",
       "---------- ------ ------ ------ ------ ... ------ ------ ------ ------ ------\n",
       "         1     --     -- 16.093  0.004 ...  4.778  4.493  0.020  0.020  0.270\n",
       "         2  9.886  0.008 10.041  0.009 ...  7.604  7.380  0.026  0.034  0.023\n",
       "         3 13.260  0.007 12.141  0.011 ...  7.539  7.190  0.029  0.044  0.021\n",
       "         4 11.081  0.005 10.697  0.009 ...  8.628  8.279  0.026  0.071  0.027\n",
       "         5 13.057  0.004 12.043  0.052 ...  8.064  7.879  0.026  0.053  0.031\n",
       "         6     --     --     --     -- ...  9.323  9.315  0.023  0.032  0.019\n",
       "         7 11.199  0.014 10.900  0.008 ...  8.905  8.792  0.026  0.032  0.019\n",
       "         8 12.583  0.004 11.496  0.010 ...  7.997  7.303  0.023  0.038  0.021\n",
       "         9  9.928  0.021 10.075  0.026 ...  8.500  8.380  0.110  0.010  0.110\n",
       "        10 14.065  0.004 12.535  0.010 ...  8.100  7.947  0.052  0.033  0.024\n",
       "       ...    ...    ...    ...    ... ...    ...    ...    ...    ...    ...\n",
       "      2610     --     --     --     -- ... 17.863 17.369  0.279  0.131  0.204\n",
       "      2611     --     --     --     -- ... 15.850 15.132     --  0.042  0.047\n",
       "      2612     --     --     --     -- ... 17.065 16.230  0.132  0.075  0.120\n",
       "      2613     --     --     --     -- ... 16.461 15.834  0.141  0.066  0.102\n",
       "      2614     --     --     --     -- ... 17.083 16.500  0.213  0.127  0.193\n",
       "      2615     --     --     --     -- ...     -- 16.012     --     --  0.056\n",
       "      2617     --     --     --     -- ... 16.910 16.227  0.169  0.064  0.109\n",
       "      2618     --     --     --     -- ...     --     --     --     --     --\n",
       "      2620     --     --     --     -- ... 16.985 16.263     --  0.063  0.078\n",
       "      2621     --     --     --     -- ... 16.673 15.886  0.199  0.084  0.107"
      ]
     },
     "execution_count": 23,
     "metadata": {},
     "output_type": "execute_result"
    }
   ],
   "source": [
    "#and if you need to read it, you can use the Table environment of astropy\n",
    "from astropy.table import Table\n",
    "table=Table.read('/Users/robberto/Box Sync/Orion/catalogs/Table WFI+ISPI.txt',format='ascii')\n",
    "table"
   ]
  },
  {
   "cell_type": "markdown",
   "metadata": {},
   "source": [
    "### Inspect a source"
   ]
  },
  {
   "cell_type": "code",
   "execution_count": 24,
   "metadata": {
    "collapsed": false
   },
   "outputs": [
    {
     "data": {
      "text/plain": [
       "array([ 0.35 ,  0.45 ,  0.55 ,  0.62 ,  0.658,  0.775,  1.2  ,  1.65 ,  2.2  ])"
      ]
     },
     "execution_count": 24,
     "metadata": {},
     "output_type": "execute_result"
    }
   ],
   "source": [
    "import numpy as np\n",
    "wl=np.array([0.35, 0.45, 0.55, 0.62, 0.658, 0.775, 1.2, 1.65, 2.2])\n",
    "wl"
   ]
  },
  {
   "cell_type": "code",
   "execution_count": 25,
   "metadata": {
    "collapsed": false
   },
   "outputs": [
    {
     "name": "stdout",
     "output_type": "stream",
     "text": [
      " Umag   Bmag   Vmag   TiO    Ha  Imag   Jmag   Hmag   Kmag \n",
      " mag    mag    mag    mag        mag    mag    mag    mag  \n",
      "------ ------ ------ ------ --- ------ ------ ------ ------\n",
      " 9.886 10.041  9.736  9.540   5  8.822  8.067  7.604  7.380\n"
     ]
    }
   ],
   "source": [
    "mags=photometry['Umag','Bmag','Vmag','TiO','Ha','Imag','Jmag','Hmag','Kmag']#[1]\n",
    "star=mags[:][1]\n",
    "print(star)"
   ]
  },
  {
   "cell_type": "code",
   "execution_count": 26,
   "metadata": {
    "collapsed": false
   },
   "outputs": [
    {
     "data": {
      "text/plain": [
       "array([  9.886,  10.041,   9.736,   9.54 ,   5.   ,   8.822,   8.067,\n",
       "         7.604,   7.38 ])"
      ]
     },
     "execution_count": 26,
     "metadata": {},
     "output_type": "execute_result"
    }
   ],
   "source": [
    "import pandas as pd\n",
    "photom=pd.read_csv('/Users/robberto/Box Sync/Orion/catalogs/Table WFI+ISPI.txt',delim_whitespace=True)\n",
    "star=photom[['Umag','Bmag','Vmag','TiO','Ha','Imag','Jmag','Hmag','Kmag']]\n",
    "star=star[1:2]\n",
    "star=np.asarray(star,dtype=float)\n",
    "star=np.squeeze(star)\n",
    "star"
   ]
  },
  {
   "cell_type": "code",
   "execution_count": 27,
   "metadata": {
    "collapsed": false
   },
   "outputs": [
    {
     "data": {
      "image/png": "[encoded data removed]",
      "text/plain": [
       "<matplotlib.figure.Figure at 0x112b00ad0>"
      ]
     },
     "metadata": {},
     "output_type": "display_data"
    }
   ],
   "source": [
    "import matplotlib.pyplot as plt\n",
    "plt.plot(wl, star , 'ro')\n",
    "plt.axis([0.2, 2.2,15, 5])\n",
    "plt.show()"
   ]
  },
  {
   "cell_type": "code",
   "execution_count": null,
   "metadata": {
    "collapsed": true
   },
   "outputs": [],
   "source": []
  }
 ],
 "metadata": {
  "kernelspec": {
   "display_name": "Python 2",
   "language": "python",
   "name": "python2"
  },
  "language_info": {
   "codemirror_mode": {
    "name": "ipython",
    "version": 2
   },
   "file_extension": ".py",
   "mimetype": "text/x-python",
   "name": "python",
   "nbconvert_exporter": "python",
   "pygments_lexer": "ipython2",
   "version": "2.7.11"
  }
 },
 "nbformat": 4,
 "nbformat_minor": 0
}
