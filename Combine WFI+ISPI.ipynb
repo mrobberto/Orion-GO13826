{
 "cells": [
  {
   "cell_type": "code",
   "execution_count": 1,
   "metadata": {
    "collapsed": true
   },
   "outputs": [],
   "source": [
    "%matplotlib inline"
   ]
  },
  {
   "cell_type": "code",
   "execution_count": 2,
   "metadata": {
    "collapsed": true
   },
   "outputs": [],
   "source": [
    "# from astropy.io import votable as vot\n",
    "from astroquery.vizier import Vizier\n",
    "#catalog_list = Vizier.find_catalogs('Kang W51')\n",
    "\n",
    "#we must set\n",
    "Vizier.ROW_LIMIT = -1  #needed to bypass the 50 rows limit\n",
    "\n",
    "#and if we read again...\n",
    "DaRio2009_table2 = Vizier.get_catalogs('J/ApJS/183/261/table2')\n",
    "\n"
   ]
  },
  {
   "cell_type": "markdown",
   "metadata": {},
   "source": [
    "## Read the WFI data"
   ]
  },
  {
   "cell_type": "code",
   "execution_count": 3,
   "metadata": {
    "collapsed": false
   },
   "outputs": [
    {
     "data": {
      "text/plain": [
       "TableList with 1 tables:\n",
       "\t'0:J/ApJS/183/261/table2' with 17 column(s) and 2621 row(s) "
      ]
     },
     "execution_count": 3,
     "metadata": {},
     "output_type": "execute_result"
    }
   ],
   "source": [
    "DaRio2009_table2"
   ]
  },
  {
   "cell_type": "code",
   "execution_count": 4,
   "metadata": {
    "collapsed": false
   },
   "outputs": [
    {
     "name": "stdout",
     "output_type": "stream",
     "text": [
      "TableList with 1 tables:\n",
      "\t'0:J/ApJS/183/261/table2' with 17 column(s) and 2621 row(s) \n"
     ]
    }
   ],
   "source": [
    "#...we are good:\n",
    "DaRio2009_table2.pprint()  #pretty print shows just the size of the database"
   ]
  },
  {
   "cell_type": "code",
   "execution_count": 5,
   "metadata": {
    "collapsed": false
   },
   "outputs": [
    {
     "name": "stdout",
     "output_type": "stream",
     "text": [
      " _RAJ2000  _DEJ2000 n__DRS2009_ __DRS2009_ ... e_TiO   Imag  e_Imag __H97b_\n",
      "   deg       deg                           ...  mag    mag    mag          \n",
      "--------- --------- ----------- ---------- ... ------ ------ ------ -------\n",
      " 83.94588  -5.29914           a          1 ...  0.003  8.626  0.027     992\n",
      " 83.83629  -5.36233           a          2 ...  0.004  8.822  0.021     660\n",
      " 83.77167  -5.24731           a          3 ...  0.003  9.280  0.036     260\n",
      " 83.55900  -5.61503           a          4 ...  0.004  9.425  0.016      --\n",
      " 83.83879  -5.20353           a          5 ...  0.003  9.538  0.018     670\n",
      " 83.86837  -5.43892                      6 ...  0.004  9.552  0.016     831\n",
      " 83.54629  -5.38183           a          7 ...  0.004  9.596  0.018      --\n",
      " 83.70821  -5.31239           a          8 ...  0.004  9.616  0.023     108\n",
      " 83.81967  -5.39033           a          9 ...  0.006  9.652  0.019      --\n",
      " 83.66562  -5.40711           a         10 ...  0.003  9.794  0.021      45\n",
      "      ...       ...         ...        ... ...    ...    ...    ...     ...\n",
      " 83.69588  -5.27525                   2612 ...     -- 20.832  0.077      --\n",
      " 83.85383  -5.60117                   2613 ...     -- 20.854  0.038      --\n",
      " 83.86392  -5.59514                   2614 ...     -- 20.877  0.050      --\n",
      " 83.91996  -5.31092                   2615 ...     -- 20.900  0.042      --\n",
      " 83.88750  -5.27836                   2616 ...     -- 20.911  0.118      --\n",
      " 83.96392  -5.66411                   2617 ...     -- 20.938  0.035      --\n",
      " 83.82421  -5.51436                   2618 ...     -- 21.026  0.068      --\n",
      " 83.67633  -5.21950                   2619 ...     -- 21.051  0.065      --\n",
      " 83.66558  -5.22378                   2620 ...     -- 21.082  0.087      --\n",
      " 83.48883  -5.34994                   2621 ...     -- 21.198  0.068      --\n",
      "Length = 2621 rows\n"
     ]
    }
   ],
   "source": [
    "#to get a manageable table we need to get extension [0]\n",
    "WFI = DaRio2009_table2[0]\n",
    "WFI.pprint()"
   ]
  },
  {
   "cell_type": "markdown",
   "metadata": {},
   "source": [
    "### The Ha photometry is in a separate table"
   ]
  },
  {
   "cell_type": "code",
   "execution_count": 6,
   "metadata": {
    "collapsed": false
   },
   "outputs": [
    {
     "name": "stdout",
     "output_type": "stream",
     "text": [
      "<Table masked=True length=1040>\n",
      "   name     dtype    unit  format                                        description                                        \n",
      "---------- ------- ------- ------ ------------------------------------------------------------------------------------------\n",
      "  _RAJ2000 float64     deg  %9.5f Right ascension (FK5, Equinox=J2000.0) (computed by VizieR, not part of the original data)\n",
      "  _DEJ2000 float64     deg  %9.5f     Declination (FK5, Equinox=J2000.0) (computed by VizieR, not part of the original data)\n",
      "       Seq   int16                                                                             Running identification number\n",
      "__DRS2009_   int16                                                                     Identification number from table2.dat\n",
      "   RAJ2000   str11 \"h:m:s\"                                                                   Hour of Right Ascension (J2000)\n",
      "   DEJ2000   str11 \"d:m:s\"                                                                     Degree of Declination (J2000)\n",
      "       EWA float32  0.1 nm  %8.1g                                                 H{alpha} equivalent width in Angstroms (1)\n",
      "      EWHz float32      Hz  %8.1g                                                     H{alpha} equivalent width in Hertz (1)\n",
      "    Ex.erg float32 mW / m2  %8.1g                                                             H{alpha} excess in erg/s/cm^2^\n",
      "    Ex.mJy float64     mJy  %6.1f                                                                     H{alpha} excess in mJy\n",
      "  Cont.erg float32 mW / m2  %8.1g                                                          H{alpha} continuum in erg/s/cm^2^\n",
      "  Cont.mJy float32     mJy  %7.3f                                                                  H{alpha} continuum in mJy\n"
     ]
    },
    {
     "name": "stderr",
     "output_type": "stream",
     "text": [
      "/Users/robberto/anaconda/envs/astroconda/lib/python2.7/site-packages/astropy/table/column.py:268: FutureWarning: elementwise comparison failed; returning scalar instead, but in the future will perform elementwise comparison\n",
      "  return self.data.__eq__(other)\n"
     ]
    }
   ],
   "source": [
    "DaRio2009_table3 = Vizier.get_catalogs('J/ApJS/183/261/table5')\n",
    "Ha=DaRio2009_table3[0]\n",
    "Ha.info()"
   ]
  },
  {
   "cell_type": "code",
   "execution_count": 7,
   "metadata": {
    "collapsed": false
   },
   "outputs": [],
   "source": [
    "haindex = Ha['__DRS2009_']\n",
    "WFI['Ha']=0\n",
    "WFI['Ha'][haindex]=Ha['EWA']\n",
    "#WFI['Ha']"
   ]
  },
  {
   "cell_type": "markdown",
   "metadata": {},
   "source": [
    "## Read the ISPI photometry"
   ]
  },
  {
   "cell_type": "code",
   "execution_count": 8,
   "metadata": {
    "collapsed": true
   },
   "outputs": [],
   "source": [
    "Robberto2010_table5 = Vizier.get_catalogs('J/AJ/139/950/table5')"
   ]
  },
  {
   "cell_type": "code",
   "execution_count": 9,
   "metadata": {
    "collapsed": false
   },
   "outputs": [
    {
     "data": {
      "text/plain": [
       "TableList with 1 tables:\n",
       "\t'0:J/AJ/139/950/table5' with 27 column(s) and 7759 row(s) "
      ]
     },
     "execution_count": 9,
     "metadata": {},
     "output_type": "execute_result"
    }
   ],
   "source": [
    "Robberto2010_table5"
   ]
  },
  {
   "cell_type": "code",
   "execution_count": 10,
   "metadata": {
    "collapsed": false
   },
   "outputs": [
    {
     "name": "stdout",
     "output_type": "stream",
     "text": [
      " _RAJ2000  _DEJ2000   ID   RAJ2000   DEJ2000  ... e_KAp  Image Exp  St Clone \n",
      "   deg       deg             deg       deg    ...  mag          s            \n",
      "--------- --------- ----- --------- --------- ... ------ ----- --- --- ------\n",
      " 83.83743  -5.22006     1  83.83743  -5.22006 ...  0.127     1  30   3      0\n",
      " 83.92990  -5.22361     2  83.92990  -5.22361 ...  0.110     1  30   3      0\n",
      " 83.83944  -5.22901     3  83.83944  -5.22901 ...  0.435     1  30   3      0\n",
      " 83.93644  -5.23733     4  83.93644  -5.23733 ...  0.085     1  30   3      0\n",
      " 83.96639  -5.23799     5  83.96639  -5.23799 ...  0.016     1  30   3      0\n",
      " 83.96664  -5.23852     6  83.96664  -5.23852 ...  0.035     1  30   3      0\n",
      " 83.89600  -5.25351     7  83.89600  -5.25351 ...  0.191     1  30   3      0\n",
      " 83.99811  -5.26343     8  83.99811  -5.26343 ...  0.084     1  30   3      0\n",
      " 83.97895  -5.27171     9  83.97895  -5.27171 ...  0.056     1  30   3      0\n",
      " 83.92232  -5.27817    10  83.92232  -5.27817 ...  0.057     1  30   3      0\n",
      "      ...       ...   ...       ...       ... ...    ...   ... ... ...    ...\n",
      " 83.81667  -5.39806 21288  83.81667  -5.39806 ...     --     5   0   0 -21288\n",
      " 83.81825  -5.40092 21246  83.81825  -5.40092 ...     --     5   0   0 -21246\n",
      " 83.82076  -5.39364 21341  83.82076  -5.39364 ...     --     5   0   0 -21341\n",
      " 83.81809  -5.39036 20386  83.81809  -5.39036 ...     --     5   0   0  20386\n",
      " 83.81963  -5.39022 21388  83.81962  -5.39022 ...     --     5   0   0 -21388\n",
      " 83.81596  -5.38958 21404  83.81596  -5.38958 ...     --     5   0   0 -10077\n",
      " 83.81554  -5.38958 20405  83.81554  -5.38958 ...     --     5   0   0 -20405\n",
      " 83.81788  -5.38794 21422  83.81788  -5.38794 ...     --     5   0   0  -3222\n",
      " 83.81329  -5.38178 21514  83.81329  -5.38178 ...     --     5   0   0 -21514\n",
      " 83.80958  -5.37517 20610  83.80958  -5.37517 ...     --     5   0   0  20610\n",
      "Length = 7759 rows\n"
     ]
    }
   ],
   "source": [
    "#to get a manageable table we need to get extension [0]\n",
    "ISPI=Robberto2010_table5[0]\n",
    "ISPI.pprint()"
   ]
  },
  {
   "cell_type": "markdown",
   "metadata": {},
   "source": [
    "## Combine the two catalogs"
   ]
  },
  {
   "cell_type": "code",
   "execution_count": 11,
   "metadata": {
    "collapsed": false
   },
   "outputs": [],
   "source": [
    "# For convenience\n",
    "ISPI_RA=ISPI['_RAJ2000']\n",
    "ISPI_DE=ISPI['_DEJ2000']\n",
    "WFI_RA=WFI['_RAJ2000']\n",
    "WFI_DE=WFI['_DEJ2000']"
   ]
  },
  {
   "cell_type": "code",
   "execution_count": 12,
   "metadata": {
    "collapsed": false
   },
   "outputs": [
    {
     "name": "stderr",
     "output_type": "stream",
     "text": [
      "WARNING: AstropyDeprecationWarning: Initializing frame classes like \"ICRS\" using string or other non-Quantity arguments is deprecated, and will be removed in the next version of Astropy.  Instead, you probably want to use the SkyCoord class with the \"frame=icrs\" keyword, or if you really want to use the low-level frame classes, create it with an Angle or Quantity. [astropy.coordinates.baseframe]\n",
      "/Users/robberto/anaconda/envs/astroconda/lib/python2.7/site-packages/astropy/coordinates/angles.py:672: RuntimeWarning: invalid value encountered in less\n",
      "  if np.any(self_angle < wrap_angle_floor) or np.any(self_angle >= wrap_angle):\n",
      "/Users/robberto/anaconda/envs/astroconda/lib/python2.7/site-packages/astropy/coordinates/angles.py:672: RuntimeWarning: invalid value encountered in greater_equal\n",
      "  if np.any(self_angle < wrap_angle_floor) or np.any(self_angle >= wrap_angle):\n",
      "/Users/robberto/anaconda/envs/astroconda/lib/python2.7/site-packages/astropy/coordinates/angles.py:563: RuntimeWarning: invalid value encountered in less\n",
      "  if np.any(angles.value < lower) or np.any(angles.value > upper):\n",
      "/Users/robberto/anaconda/envs/astroconda/lib/python2.7/site-packages/astropy/coordinates/angles.py:563: RuntimeWarning: invalid value encountered in greater\n",
      "  if np.any(angles.value < lower) or np.any(angles.value > upper):\n"
     ]
    }
   ],
   "source": [
    "#From the astropy manual\n",
    "from astropy.coordinates import ICRS\n",
    "from astropy import units as u\n",
    "\n",
    "#assume ra1/dec1 and ra/dec2 are arrays loaded from some file\n",
    "c_ISPI = ICRS(ISPI_RA, ISPI_DE, unit=(u.degree, u.degree))\n",
    "c_WFI = ICRS(WFI_RA, WFI_DE, unit=(u.degree, u.degree))\n",
    "idx, d2d, d3d = c_WFI.match_to_catalog_sky(c_ISPI)"
   ]
  },
  {
   "cell_type": "code",
   "execution_count": 13,
   "metadata": {
    "collapsed": false
   },
   "outputs": [
    {
     "data": {
      "text/plain": [
       "2621"
      ]
     },
     "execution_count": 13,
     "metadata": {},
     "output_type": "execute_result"
    }
   ],
   "source": [
    "#we have 2621 sources detected by WFI.\n",
    "len(c_WFI)"
   ]
  },
  {
   "cell_type": "code",
   "execution_count": 14,
   "metadata": {
    "collapsed": false
   },
   "outputs": [],
   "source": [
    "#the corresponding indices in the ISPI catalog (much larger) are give by the vector idx.\n",
    "#We select the rows/sources corresponding to these indices\n",
    "ISPI_matches = c_ISPI[idx]\n",
    "#dra = (ISPI_matches.ra - c_WFI.ra).arcmin\n",
    "#ddec = (ISPI_matches.dec - c_WFI.dec).arcmin"
   ]
  },
  {
   "cell_type": "code",
   "execution_count": 15,
   "metadata": {
    "collapsed": false
   },
   "outputs": [],
   "source": [
    "#The matching is agnostic about the minimum distance, some are bad. \n",
    "#We need to keep the good ones, selecting a discrepancy in coordinates of <1\"\n",
    "matched = d2d.arcsec < 1  #This is an array of 2621 TRUe/FALSE values\n",
    "#these are the indices of the ISPI sources really matching the WFI catalog\n",
    "m=idx[matched == True]\n",
    "\n",
    "#v=list(range(len(c_WFI)))\n",
    "#v\n",
    "#v=v[matched == True]"
   ]
  },
  {
   "cell_type": "code",
   "execution_count": 16,
   "metadata": {
    "collapsed": false
   },
   "outputs": [
    {
     "name": "stdout",
     "output_type": "stream",
     "text": [
      "2426\n"
     ]
    }
   ],
   "source": [
    "#len(matched)\n",
    "print(len(m))  #we pass from 2621 to 2426 paired sources\n",
    "#print(m)"
   ]
  },
  {
   "cell_type": "code",
   "execution_count": 1,
   "metadata": {
    "collapsed": false
   },
   "outputs": [
    {
     "ename": "NameError",
     "evalue": "name 'ISPI' is not defined",
     "output_type": "error",
     "traceback": [
      "\u001b[0;31m---------------------------------------------------------------------------\u001b[0m",
      "\u001b[0;31mNameError\u001b[0m                                 Traceback (most recent call last)",
      "\u001b[0;32m<ipython-input-1-24fbe623a01d>\u001b[0m in \u001b[0;36m<module>\u001b[0;34m()\u001b[0m\n\u001b[0;32m----> 1\u001b[0;31m \u001b[0mISPI\u001b[0m\u001b[0;34m=\u001b[0m\u001b[0mISPI\u001b[0m\u001b[0;34m[\u001b[0m\u001b[0mm\u001b[0m\u001b[0;34m]\u001b[0m \u001b[0;31m#The new ISPI table is extracted with the indices of the good matches\u001b[0m\u001b[0;34m\u001b[0m\u001b[0m\n\u001b[0m\u001b[1;32m      2\u001b[0m \u001b[0mWFI\u001b[0m\u001b[0;34m=\u001b[0m\u001b[0;34m(\u001b[0m\u001b[0mWFI\u001b[0m\u001b[0;34m[\u001b[0m\u001b[0mm\u001b[0m\u001b[0;34m[\u001b[0m\u001b[0mv\u001b[0m\u001b[0;34m]\u001b[0m\u001b[0;34m]\u001b[0m\u001b[0;34m)\u001b[0m \u001b[0;31m#same for the WFI table\u001b[0m\u001b[0;34m\u001b[0m\u001b[0m\n",
      "\u001b[0;31mNameError\u001b[0m: name 'ISPI' is not defined"
     ]
    }
   ],
   "source": [
    "ISPI=ISPI[m] #The new ISPI table is extracted with the indices of the good matches \n",
    "WFI=(WFI[matched]) #same for the WFI table"
   ]
  },
  {
   "cell_type": "markdown",
   "metadata": {},
   "source": [
    "## Create the table with the combined photometry"
   ]
  },
  {
   "cell_type": "code",
   "execution_count": 18,
   "metadata": {
    "collapsed": false
   },
   "outputs": [
    {
     "name": "stdout",
     "output_type": "stream",
     "text": [
      "<Table masked=True length=2426>\n",
      "    name     dtype    unit  format                                               description                                                n_bad\n",
      "----------- ------- ------- ------ -------------------------------------------------------------------------------------------------------- -----\n",
      "   _RAJ2000 float64     deg  %9.5f               Right ascension (FK5, Equinox=J2000.0) (computed by VizieR, not part of the original data)     0\n",
      "   _DEJ2000 float64     deg  %9.5f                   Declination (FK5, Equinox=J2000.0) (computed by VizieR, not part of the original data)     0\n",
      "n__DRS2009_    str1                                     {\\bf M} indicates M-type stars (table 4) and {\\bf a} H{alpha} measurements (table5)     0\n",
      " __DRS2009_   int16                                                                                                   Identification number     0\n",
      "    RAJ2000   str11 \"h:m:s\"                                                                                 Hour of Right Ascension (J2000)     0\n",
      "    DEJ2000   str11 \"d:m:s\"                                                                                   Degree of Declination (J2000)     0\n",
      "       Umag float32     mag  %6.3f                                                                              ? U band Vega magnitude (1)  2012\n",
      "     e_Umag float32     mag  %6.3f                                                                                          ? Error in Umag  2012\n",
      "       Bmag float32     mag  %6.3f                                                                              ? B band Vega magnitude (1)  1367\n",
      "     e_Bmag float32     mag  %6.3f                                                                                          ? Error in Bmag  1367\n",
      "       Vmag float32     mag  %6.3f                                                                              ? V band Vega magnitude (1)  1048\n",
      "     e_Vmag float32     mag  %6.3f                                                                                          ? Error in Vmag  1048\n",
      "        TiO float32     mag  %6.3f                                                                            ? TiO band Vega magnitude (1)  1384\n",
      "      e_TiO float32     mag  %6.3f                                                                                           ? Error in TiO  1384\n",
      "       Imag float32     mag  %6.3f                                                                                I band Vega magnitude (1)     0\n",
      "     e_Imag float32     mag  %6.3f                                                                                            Error in Imag     0\n",
      "    __H97b_   int16                ? Hillenbrand 1997 (Cat. J/AJ/113/1733) catalog identification [NULL integer written as an empty string]  1157\n",
      "         Ha   int64                                                                                                                             0\n"
     ]
    },
    {
     "name": "stderr",
     "output_type": "stream",
     "text": [
      "/Users/robberto/anaconda/envs/astroconda/lib/python2.7/site-packages/astropy/table/info.py:94: UnicodeWarning: Unicode equal comparison failed to convert both arguments to Unicode - interpreting them as being unequal\n",
      "  if np.all(info[name] == ''):\n"
     ]
    }
   ],
   "source": [
    "#This may be needed to get the right keywords\n",
    "WFI.info()"
   ]
  },
  {
   "cell_type": "code",
   "execution_count": 19,
   "metadata": {
    "collapsed": false
   },
   "outputs": [],
   "source": [
    "photometry=WFI['__DRS2009_','Umag','e_Umag','Bmag','e_Bmag','Vmag','e_Vmag','TiO','e_TiO','Ha','Imag','e_Imag']"
   ]
  },
  {
   "cell_type": "code",
   "execution_count": 20,
   "metadata": {
    "collapsed": true
   },
   "outputs": [],
   "source": [
    "#and to get the info for ISPI\n",
    "#ISPI.info()"
   ]
  },
  {
   "cell_type": "code",
   "execution_count": 21,
   "metadata": {
    "collapsed": false
   },
   "outputs": [
    {
     "data": {
      "text/html": [
       "&lt;Table masked=True length=2426&gt;\n",
       "<table id=\"table4608088976\">\n",
       "<thead><tr><th>__DRS2009_</th><th>Umag</th><th>e_Umag</th><th>Bmag</th><th>e_Bmag</th><th>Vmag</th><th>e_Vmag</th><th>TiO</th><th>e_TiO</th><th>Ha</th><th>Imag</th><th>e_Imag</th><th>Jmag</th><th>Hmag</th><th>Kmag</th><th>e_Jmag</th><th>e_Hmag</th><th>e_Kmag</th></tr></thead>\n",
       "<thead><tr><th></th><th>mag</th><th>mag</th><th>mag</th><th>mag</th><th>mag</th><th>mag</th><th>mag</th><th>mag</th><th></th><th>mag</th><th>mag</th><th>mag</th><th>mag</th><th>mag</th><th>mag</th><th>mag</th><th>mag</th></tr></thead>\n",
       "<thead><tr><th>int16</th><th>float32</th><th>float32</th><th>float32</th><th>float32</th><th>float32</th><th>float32</th><th>float32</th><th>float32</th><th>int64</th><th>float32</th><th>float32</th><th>float32</th><th>float32</th><th>float32</th><th>float32</th><th>float32</th><th>float32</th></tr></thead>\n",
       "<tr><td>1</td><td>--</td><td>--</td><td>16.093</td><td>0.004</td><td>13.728</td><td>0.004</td><td>12.097</td><td>0.003</td><td>0</td><td>8.626</td><td>0.027</td><td>6.143</td><td>4.778</td><td>4.493</td><td>0.020</td><td>0.020</td><td>0.270</td></tr>\n",
       "<tr><td>2</td><td>9.886</td><td>0.008</td><td>10.041</td><td>0.009</td><td>9.736</td><td>0.008</td><td>9.540</td><td>0.004</td><td>5</td><td>8.822</td><td>0.021</td><td>8.067</td><td>7.604</td><td>7.380</td><td>0.026</td><td>0.034</td><td>0.023</td></tr>\n",
       "<tr><td>3</td><td>13.260</td><td>0.007</td><td>12.141</td><td>0.011</td><td>11.246</td><td>0.017</td><td>10.535</td><td>0.003</td><td>24</td><td>9.280</td><td>0.036</td><td>8.166</td><td>7.539</td><td>7.190</td><td>0.029</td><td>0.044</td><td>0.021</td></tr>\n",
       "<tr><td>4</td><td>11.081</td><td>0.005</td><td>10.697</td><td>0.009</td><td>10.219</td><td>0.010</td><td>9.929</td><td>0.004</td><td>-2</td><td>9.425</td><td>0.016</td><td>8.993</td><td>8.628</td><td>8.279</td><td>0.026</td><td>0.071</td><td>0.027</td></tr>\n",
       "<tr><td>5</td><td>13.057</td><td>0.004</td><td>12.043</td><td>0.052</td><td>11.225</td><td>0.015</td><td>10.646</td><td>0.003</td><td>7</td><td>9.538</td><td>0.018</td><td>8.645</td><td>8.064</td><td>7.879</td><td>0.026</td><td>0.053</td><td>0.031</td></tr>\n",
       "<tr><td>6</td><td>--</td><td>--</td><td>--</td><td>--</td><td>--</td><td>--</td><td>9.601</td><td>0.004</td><td>2</td><td>9.552</td><td>0.016</td><td>9.386</td><td>9.323</td><td>9.315</td><td>0.023</td><td>0.032</td><td>0.019</td></tr>\n",
       "<tr><td>7</td><td>11.199</td><td>0.014</td><td>10.900</td><td>0.008</td><td>10.388</td><td>0.010</td><td>10.130</td><td>0.004</td><td>0</td><td>9.596</td><td>0.018</td><td>9.117</td><td>8.905</td><td>8.792</td><td>0.026</td><td>0.032</td><td>0.019</td></tr>\n",
       "<tr><td>8</td><td>12.583</td><td>0.004</td><td>11.496</td><td>0.010</td><td>10.928</td><td>0.010</td><td>10.474</td><td>0.004</td><td>11</td><td>9.616</td><td>0.023</td><td>8.776</td><td>7.997</td><td>7.303</td><td>0.023</td><td>0.038</td><td>0.021</td></tr>\n",
       "<tr><td>9</td><td>9.928</td><td>0.021</td><td>10.075</td><td>0.026</td><td>10.122</td><td>0.012</td><td>9.908</td><td>0.006</td><td>18</td><td>9.652</td><td>0.019</td><td>8.680</td><td>8.500</td><td>8.380</td><td>0.110</td><td>0.010</td><td>0.110</td></tr>\n",
       "<tr><td>...</td><td>...</td><td>...</td><td>...</td><td>...</td><td>...</td><td>...</td><td>...</td><td>...</td><td>...</td><td>...</td><td>...</td><td>...</td><td>...</td><td>...</td><td>...</td><td>...</td><td>...</td></tr>\n",
       "<tr><td>2610</td><td>--</td><td>--</td><td>--</td><td>--</td><td>--</td><td>--</td><td>--</td><td>--</td><td>0</td><td>20.825</td><td>0.056</td><td>18.870</td><td>17.863</td><td>17.369</td><td>0.279</td><td>0.131</td><td>0.204</td></tr>\n",
       "<tr><td>2611</td><td>--</td><td>--</td><td>--</td><td>--</td><td>--</td><td>--</td><td>--</td><td>--</td><td>0</td><td>20.830</td><td>0.074</td><td>--</td><td>15.850</td><td>15.132</td><td>--</td><td>0.042</td><td>0.047</td></tr>\n",
       "<tr><td>2612</td><td>--</td><td>--</td><td>--</td><td>--</td><td>--</td><td>--</td><td>--</td><td>--</td><td>0</td><td>20.832</td><td>0.077</td><td>17.876</td><td>17.065</td><td>16.230</td><td>0.132</td><td>0.075</td><td>0.120</td></tr>\n",
       "<tr><td>2613</td><td>--</td><td>--</td><td>--</td><td>--</td><td>--</td><td>--</td><td>--</td><td>--</td><td>0</td><td>20.854</td><td>0.038</td><td>18.039</td><td>16.461</td><td>15.834</td><td>0.141</td><td>0.066</td><td>0.102</td></tr>\n",
       "<tr><td>2614</td><td>--</td><td>--</td><td>--</td><td>--</td><td>--</td><td>--</td><td>--</td><td>--</td><td>0</td><td>20.877</td><td>0.050</td><td>18.095</td><td>17.083</td><td>16.500</td><td>0.213</td><td>0.127</td><td>0.193</td></tr>\n",
       "<tr><td>2615</td><td>--</td><td>--</td><td>--</td><td>--</td><td>--</td><td>--</td><td>--</td><td>--</td><td>0</td><td>20.900</td><td>0.042</td><td>--</td><td>--</td><td>16.012</td><td>--</td><td>--</td><td>0.056</td></tr>\n",
       "<tr><td>2617</td><td>--</td><td>--</td><td>--</td><td>--</td><td>--</td><td>--</td><td>--</td><td>--</td><td>0</td><td>20.938</td><td>0.035</td><td>18.322</td><td>16.910</td><td>16.227</td><td>0.169</td><td>0.064</td><td>0.109</td></tr>\n",
       "<tr><td>2618</td><td>--</td><td>--</td><td>--</td><td>--</td><td>--</td><td>--</td><td>--</td><td>--</td><td>0</td><td>21.026</td><td>0.068</td><td>--</td><td>--</td><td>--</td><td>--</td><td>--</td><td>--</td></tr>\n",
       "<tr><td>2620</td><td>--</td><td>--</td><td>--</td><td>--</td><td>--</td><td>--</td><td>--</td><td>--</td><td>0</td><td>21.082</td><td>0.087</td><td>--</td><td>16.985</td><td>16.263</td><td>--</td><td>0.063</td><td>0.078</td></tr>\n",
       "<tr><td>2621</td><td>--</td><td>--</td><td>--</td><td>--</td><td>--</td><td>--</td><td>--</td><td>--</td><td>0</td><td>21.198</td><td>0.068</td><td>18.279</td><td>16.673</td><td>15.886</td><td>0.199</td><td>0.084</td><td>0.107</td></tr>\n",
       "</table>"
      ],
      "text/plain": [
       "<Table masked=True length=2426>\n",
       "__DRS2009_   Umag   e_Umag   Bmag   e_Bmag ...   Kmag   e_Jmag  e_Hmag  e_Kmag\n",
       "             mag     mag     mag     mag   ...   mag     mag     mag     mag  \n",
       "  int16    float32 float32 float32 float32 ... float32 float32 float32 float32\n",
       "---------- ------- ------- ------- ------- ... ------- ------- ------- -------\n",
       "         1      --      --  16.093   0.004 ...   4.493   0.020   0.020   0.270\n",
       "         2   9.886   0.008  10.041   0.009 ...   7.380   0.026   0.034   0.023\n",
       "         3  13.260   0.007  12.141   0.011 ...   7.190   0.029   0.044   0.021\n",
       "         4  11.081   0.005  10.697   0.009 ...   8.279   0.026   0.071   0.027\n",
       "         5  13.057   0.004  12.043   0.052 ...   7.879   0.026   0.053   0.031\n",
       "         6      --      --      --      -- ...   9.315   0.023   0.032   0.019\n",
       "         7  11.199   0.014  10.900   0.008 ...   8.792   0.026   0.032   0.019\n",
       "         8  12.583   0.004  11.496   0.010 ...   7.303   0.023   0.038   0.021\n",
       "         9   9.928   0.021  10.075   0.026 ...   8.380   0.110   0.010   0.110\n",
       "       ...     ...     ...     ...     ... ...     ...     ...     ...     ...\n",
       "      2610      --      --      --      -- ...  17.369   0.279   0.131   0.204\n",
       "      2611      --      --      --      -- ...  15.132      --   0.042   0.047\n",
       "      2612      --      --      --      -- ...  16.230   0.132   0.075   0.120\n",
       "      2613      --      --      --      -- ...  15.834   0.141   0.066   0.102\n",
       "      2614      --      --      --      -- ...  16.500   0.213   0.127   0.193\n",
       "      2615      --      --      --      -- ...  16.012      --      --   0.056\n",
       "      2617      --      --      --      -- ...  16.227   0.169   0.064   0.109\n",
       "      2618      --      --      --      -- ...      --      --      --      --\n",
       "      2620      --      --      --      -- ...  16.263      --   0.063   0.078\n",
       "      2621      --      --      --      -- ...  15.886   0.199   0.084   0.107"
      ]
     },
     "execution_count": 21,
     "metadata": {},
     "output_type": "execute_result"
    }
   ],
   "source": [
    "#add the ISPI measures to the final photometry table\n",
    "photometry['Jmag']=ISPI['Jmag']\n",
    "photometry['Hmag']=ISPI['Hmag']\n",
    "photometry['Kmag']=ISPI['Kmag']\n",
    "photometry['e_Jmag']=ISPI['e_Jmag']\n",
    "photometry['e_Hmag']=ISPI['e_Hmag']\n",
    "photometry['e_Kmag']=ISPI['e_Kmag']\n",
    "\n",
    "#check\n",
    "photometry\n",
    "\n"
   ]
  },
  {
   "cell_type": "markdown",
   "metadata": {},
   "source": [
    "### Write the table"
   ]
  },
  {
   "cell_type": "code",
   "execution_count": 22,
   "metadata": {
    "collapsed": false
   },
   "outputs": [],
   "source": [
    "photometry.write('/Users/robberto/Box Sync/Orion/catalogs/Table WFI+ISPI.txt',format='ascii')"
   ]
  },
  {
   "cell_type": "code",
   "execution_count": 23,
   "metadata": {
    "collapsed": false
   },
   "outputs": [
    {
     "data": {
      "text/html": [
       "&lt;Table length=2426&gt;\n",
       "<table id=\"table4608214032\">\n",
       "<thead><tr><th>__DRS2009_</th><th>Umag</th><th>e_Umag</th><th>Bmag</th><th>e_Bmag</th><th>Vmag</th><th>e_Vmag</th><th>TiO</th><th>e_TiO</th><th>Ha</th><th>Imag</th><th>e_Imag</th><th>Jmag</th><th>Hmag</th><th>Kmag</th><th>e_Jmag</th><th>e_Hmag</th><th>e_Kmag</th></tr></thead>\n",
       "<thead><tr><th>int64</th><th>str6</th><th>str5</th><th>str6</th><th>str5</th><th>str6</th><th>str5</th><th>str6</th><th>str5</th><th>int64</th><th>float64</th><th>float64</th><th>str7</th><th>str6</th><th>str6</th><th>str6</th><th>str5</th><th>str5</th></tr></thead>\n",
       "<tr><td>1</td><td>--</td><td>--</td><td>16.093</td><td>0.004</td><td>13.728</td><td>0.004</td><td>12.097</td><td>0.003</td><td>0</td><td>8.626</td><td>0.027</td><td>6.143</td><td>4.778</td><td>4.493</td><td>0.020</td><td>0.020</td><td>0.270</td></tr>\n",
       "<tr><td>2</td><td>9.886</td><td>0.008</td><td>10.041</td><td>0.009</td><td>9.736</td><td>0.008</td><td>9.540</td><td>0.004</td><td>5</td><td>8.822</td><td>0.021</td><td>8.067</td><td>7.604</td><td>7.380</td><td>0.026</td><td>0.034</td><td>0.023</td></tr>\n",
       "<tr><td>3</td><td>13.260</td><td>0.007</td><td>12.141</td><td>0.011</td><td>11.246</td><td>0.017</td><td>10.535</td><td>0.003</td><td>24</td><td>9.28</td><td>0.036</td><td>8.166</td><td>7.539</td><td>7.190</td><td>0.029</td><td>0.044</td><td>0.021</td></tr>\n",
       "<tr><td>4</td><td>11.081</td><td>0.005</td><td>10.697</td><td>0.009</td><td>10.219</td><td>0.010</td><td>9.929</td><td>0.004</td><td>-2</td><td>9.425</td><td>0.016</td><td>8.993</td><td>8.628</td><td>8.279</td><td>0.026</td><td>0.071</td><td>0.027</td></tr>\n",
       "<tr><td>5</td><td>13.057</td><td>0.004</td><td>12.043</td><td>0.052</td><td>11.225</td><td>0.015</td><td>10.646</td><td>0.003</td><td>7</td><td>9.538</td><td>0.018</td><td>8.645</td><td>8.064</td><td>7.879</td><td>0.026</td><td>0.053</td><td>0.031</td></tr>\n",
       "<tr><td>6</td><td>--</td><td>--</td><td>--</td><td>--</td><td>--</td><td>--</td><td>9.601</td><td>0.004</td><td>2</td><td>9.552</td><td>0.016</td><td>9.386</td><td>9.323</td><td>9.315</td><td>0.023</td><td>0.032</td><td>0.019</td></tr>\n",
       "<tr><td>7</td><td>11.199</td><td>0.014</td><td>10.900</td><td>0.008</td><td>10.388</td><td>0.010</td><td>10.130</td><td>0.004</td><td>0</td><td>9.596</td><td>0.018</td><td>9.117</td><td>8.905</td><td>8.792</td><td>0.026</td><td>0.032</td><td>0.019</td></tr>\n",
       "<tr><td>8</td><td>12.583</td><td>0.004</td><td>11.496</td><td>0.010</td><td>10.928</td><td>0.010</td><td>10.474</td><td>0.004</td><td>11</td><td>9.616</td><td>0.023</td><td>8.776</td><td>7.997</td><td>7.303</td><td>0.023</td><td>0.038</td><td>0.021</td></tr>\n",
       "<tr><td>9</td><td>9.928</td><td>0.021</td><td>10.075</td><td>0.026</td><td>10.122</td><td>0.012</td><td>9.908</td><td>0.006</td><td>18</td><td>9.652</td><td>0.019</td><td>8.680</td><td>8.500</td><td>8.380</td><td>0.110</td><td>0.010</td><td>0.110</td></tr>\n",
       "<tr><td>10</td><td>14.065</td><td>0.004</td><td>12.535</td><td>0.010</td><td>11.606</td><td>0.008</td><td>10.906</td><td>0.003</td><td>18</td><td>9.794</td><td>0.021</td><td>8.848</td><td>8.100</td><td>7.947</td><td>0.052</td><td>0.033</td><td>0.024</td></tr>\n",
       "<tr><td>...</td><td>...</td><td>...</td><td>...</td><td>...</td><td>...</td><td>...</td><td>...</td><td>...</td><td>...</td><td>...</td><td>...</td><td>...</td><td>...</td><td>...</td><td>...</td><td>...</td><td>...</td></tr>\n",
       "<tr><td>2610</td><td>--</td><td>--</td><td>--</td><td>--</td><td>--</td><td>--</td><td>--</td><td>--</td><td>0</td><td>20.825</td><td>0.056</td><td>18.870</td><td>17.863</td><td>17.369</td><td>0.279</td><td>0.131</td><td>0.204</td></tr>\n",
       "<tr><td>2611</td><td>--</td><td>--</td><td>--</td><td>--</td><td>--</td><td>--</td><td>--</td><td>--</td><td>0</td><td>20.83</td><td>0.074</td><td>--</td><td>15.850</td><td>15.132</td><td>--</td><td>0.042</td><td>0.047</td></tr>\n",
       "<tr><td>2612</td><td>--</td><td>--</td><td>--</td><td>--</td><td>--</td><td>--</td><td>--</td><td>--</td><td>0</td><td>20.832</td><td>0.077</td><td>17.876</td><td>17.065</td><td>16.230</td><td>0.132</td><td>0.075</td><td>0.120</td></tr>\n",
       "<tr><td>2613</td><td>--</td><td>--</td><td>--</td><td>--</td><td>--</td><td>--</td><td>--</td><td>--</td><td>0</td><td>20.854</td><td>0.038</td><td>18.039</td><td>16.461</td><td>15.834</td><td>0.141</td><td>0.066</td><td>0.102</td></tr>\n",
       "<tr><td>2614</td><td>--</td><td>--</td><td>--</td><td>--</td><td>--</td><td>--</td><td>--</td><td>--</td><td>0</td><td>20.877</td><td>0.05</td><td>18.095</td><td>17.083</td><td>16.500</td><td>0.213</td><td>0.127</td><td>0.193</td></tr>\n",
       "<tr><td>2615</td><td>--</td><td>--</td><td>--</td><td>--</td><td>--</td><td>--</td><td>--</td><td>--</td><td>0</td><td>20.9</td><td>0.042</td><td>--</td><td>--</td><td>16.012</td><td>--</td><td>--</td><td>0.056</td></tr>\n",
       "<tr><td>2617</td><td>--</td><td>--</td><td>--</td><td>--</td><td>--</td><td>--</td><td>--</td><td>--</td><td>0</td><td>20.938</td><td>0.035</td><td>18.322</td><td>16.910</td><td>16.227</td><td>0.169</td><td>0.064</td><td>0.109</td></tr>\n",
       "<tr><td>2618</td><td>--</td><td>--</td><td>--</td><td>--</td><td>--</td><td>--</td><td>--</td><td>--</td><td>0</td><td>21.026</td><td>0.068</td><td>--</td><td>--</td><td>--</td><td>--</td><td>--</td><td>--</td></tr>\n",
       "<tr><td>2620</td><td>--</td><td>--</td><td>--</td><td>--</td><td>--</td><td>--</td><td>--</td><td>--</td><td>0</td><td>21.082</td><td>0.087</td><td>--</td><td>16.985</td><td>16.263</td><td>--</td><td>0.063</td><td>0.078</td></tr>\n",
       "<tr><td>2621</td><td>--</td><td>--</td><td>--</td><td>--</td><td>--</td><td>--</td><td>--</td><td>--</td><td>0</td><td>21.198</td><td>0.068</td><td>18.279</td><td>16.673</td><td>15.886</td><td>0.199</td><td>0.084</td><td>0.107</td></tr>\n",
       "</table>"
      ],
      "text/plain": [
       "<Table length=2426>\n",
       "__DRS2009_  Umag  e_Umag  Bmag  e_Bmag ...  Hmag   Kmag  e_Jmag e_Hmag e_Kmag\n",
       "  int64     str6   str5   str6   str5  ...  str6   str6   str6   str5   str5 \n",
       "---------- ------ ------ ------ ------ ... ------ ------ ------ ------ ------\n",
       "         1     --     -- 16.093  0.004 ...  4.778  4.493  0.020  0.020  0.270\n",
       "         2  9.886  0.008 10.041  0.009 ...  7.604  7.380  0.026  0.034  0.023\n",
       "         3 13.260  0.007 12.141  0.011 ...  7.539  7.190  0.029  0.044  0.021\n",
       "         4 11.081  0.005 10.697  0.009 ...  8.628  8.279  0.026  0.071  0.027\n",
       "         5 13.057  0.004 12.043  0.052 ...  8.064  7.879  0.026  0.053  0.031\n",
       "         6     --     --     --     -- ...  9.323  9.315  0.023  0.032  0.019\n",
       "         7 11.199  0.014 10.900  0.008 ...  8.905  8.792  0.026  0.032  0.019\n",
       "         8 12.583  0.004 11.496  0.010 ...  7.997  7.303  0.023  0.038  0.021\n",
       "         9  9.928  0.021 10.075  0.026 ...  8.500  8.380  0.110  0.010  0.110\n",
       "        10 14.065  0.004 12.535  0.010 ...  8.100  7.947  0.052  0.033  0.024\n",
       "       ...    ...    ...    ...    ... ...    ...    ...    ...    ...    ...\n",
       "      2610     --     --     --     -- ... 17.863 17.369  0.279  0.131  0.204\n",
       "      2611     --     --     --     -- ... 15.850 15.132     --  0.042  0.047\n",
       "      2612     --     --     --     -- ... 17.065 16.230  0.132  0.075  0.120\n",
       "      2613     --     --     --     -- ... 16.461 15.834  0.141  0.066  0.102\n",
       "      2614     --     --     --     -- ... 17.083 16.500  0.213  0.127  0.193\n",
       "      2615     --     --     --     -- ...     -- 16.012     --     --  0.056\n",
       "      2617     --     --     --     -- ... 16.910 16.227  0.169  0.064  0.109\n",
       "      2618     --     --     --     -- ...     --     --     --     --     --\n",
       "      2620     --     --     --     -- ... 16.985 16.263     --  0.063  0.078\n",
       "      2621     --     --     --     -- ... 16.673 15.886  0.199  0.084  0.107"
      ]
     },
     "execution_count": 23,
     "metadata": {},
     "output_type": "execute_result"
    }
   ],
   "source": [
    "#and if you need to read it, you can use the Table environment of astropy\n",
    "from astropy.table import Table\n",
    "table=Table.read('/Users/robberto/Box Sync/Orion/catalogs/Table WFI+ISPI.txt',format='ascii')\n",
    "table"
   ]
  },
  {
   "cell_type": "markdown",
   "metadata": {},
   "source": [
    "### Inspect a source"
   ]
  },
  {
   "cell_type": "code",
   "execution_count": 24,
   "metadata": {
    "collapsed": false
   },
   "outputs": [
    {
     "data": {
      "text/plain": [
       "array([ 0.35 ,  0.45 ,  0.55 ,  0.62 ,  0.658,  0.775,  1.2  ,  1.65 ,  2.2  ])"
      ]
     },
     "execution_count": 24,
     "metadata": {},
     "output_type": "execute_result"
    }
   ],
   "source": [
    "import numpy as np\n",
    "wl=np.array([0.35, 0.45, 0.55, 0.62, 0.658, 0.775, 1.2, 1.65, 2.2])\n",
    "wl"
   ]
  },
  {
   "cell_type": "code",
   "execution_count": 25,
   "metadata": {
    "collapsed": false
   },
   "outputs": [
    {
     "name": "stdout",
     "output_type": "stream",
     "text": [
      " Umag   Bmag   Vmag   TiO    Ha  Imag   Jmag   Hmag   Kmag \n",
      " mag    mag    mag    mag        mag    mag    mag    mag  \n",
      "------ ------ ------ ------ --- ------ ------ ------ ------\n",
      " 9.886 10.041  9.736  9.540   5  8.822  8.067  7.604  7.380\n"
     ]
    }
   ],
   "source": [
    "mags=photometry['Umag','Bmag','Vmag','TiO','Ha','Imag','Jmag','Hmag','Kmag']#[1]\n",
    "star=mags[:][1]\n",
    "print(star)"
   ]
  },
  {
   "cell_type": "code",
   "execution_count": 26,
   "metadata": {
    "collapsed": false
   },
   "outputs": [
    {
     "data": {
      "text/plain": [
       "array([  9.886,  10.041,   9.736,   9.54 ,   5.   ,   8.822,   8.067,\n",
       "         7.604,   7.38 ])"
      ]
     },
     "execution_count": 26,
     "metadata": {},
     "output_type": "execute_result"
    }
   ],
   "source": [
    "import pandas as pd\n",
    "photom=pd.read_csv('/Users/robberto/Box Sync/Orion/catalogs/Table WFI+ISPI.txt',delim_whitespace=True)\n",
    "star=photom[['Umag','Bmag','Vmag','TiO','Ha','Imag','Jmag','Hmag','Kmag']]\n",
    "star=star[1:2]\n",
    "star=np.asarray(star,dtype=float)\n",
    "star=np.squeeze(star)\n",
    "star"
   ]
  },
  {
   "cell_type": "code",
   "execution_count": 27,
   "metadata": {
    "collapsed": false
   },
   "outputs": [
    {
     "data": {
      "image/png": "[encoded data removed]",
      "text/plain": [
       "<matplotlib.figure.Figure at 0x112b00ad0>"
      ]
     },
     "metadata": {},
     "output_type": "display_data"
    }
   ],
   "source": [
    "import matplotlib.pyplot as plt\n",
    "plt.plot(wl, star , 'ro')\n",
    "plt.axis([0.2, 2.2,15, 5])\n",
    "plt.show()"
   ]
  },
  {
   "cell_type": "code",
   "execution_count": null,
   "metadata": {
    "collapsed": true
   },
   "outputs": [],
   "source": []
  }
 ],
 "metadata": {
  "kernelspec": {
   "display_name": "Python 2",
   "language": "python",
   "name": "python2"
  },
  "language_info": {
   "codemirror_mode": {
    "name": "ipython",
    "version": 2
   },
   "file_extension": ".py",
   "mimetype": "text/x-python",
   "name": "python",
   "nbconvert_exporter": "python",
   "pygments_lexer": "ipython2",
   "version": "2.7.11"
  }
 },
 "nbformat": 4,
 "nbformat_minor": 0
}
